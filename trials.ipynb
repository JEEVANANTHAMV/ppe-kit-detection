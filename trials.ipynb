{
 "cells": [
  {
   "cell_type": "code",
   "execution_count": null,
   "metadata": {},
   "outputs": [],
   "source": [
    "!export ROBOFLOW_API_KEY=vnxuKGSqfK7hTBUCzgCj"
   ]
  },
  {
   "cell_type": "code",
   "execution_count": 12,
   "metadata": {},
   "outputs": [],
   "source": [
    "from inference_sdk import InferenceHTTPClient\n",
    "\n",
    "CLIENT = InferenceHTTPClient(\n",
    "    api_url=\"http://localhost:9001\"\n",
    ")\n",
    "\n",
    "image_url = \"Depositphotos_170347820_s-2019-1.jpg\"\n",
    "result = CLIENT.infer(image_url, model_id=\"construction-site-safety/27\")"
   ]
  },
  {
   "cell_type": "code",
   "execution_count": 14,
   "metadata": {},
   "outputs": [
    {
     "name": "stdout",
     "output_type": "stream",
     "text": [
      "Annotated result saved as annotated_result.jpg\n"
     ]
    }
   ],
   "source": [
    "import cv2\n",
    "\n",
    "# Path to your local image file\n",
    "image_path = \"Depositphotos_170347820_s-2019-1.jpg\"\n",
    "image = cv2.imread(image_path)\n",
    "\n",
    "if image is None:\n",
    "    print(\"Failed to load image from the provided path.\")\n",
    "else:\n",
    "    for pred in result[\"predictions\"]:\n",
    "        x_center = pred[\"x\"]\n",
    "        y_center = pred[\"y\"]\n",
    "        width = pred[\"width\"]\n",
    "        height = pred[\"height\"]\n",
    "        class_label = pred[\"class\"]\n",
    "        confidence = pred[\"confidence\"]\n",
    "\n",
    "        # Convert center coordinates to top-left and bottom-right\n",
    "        x_min = int(x_center - width / 2)\n",
    "        y_min = int(y_center - height / 2)\n",
    "        x_max = int(x_center + width / 2)\n",
    "        y_max = int(y_center + height / 2)\n",
    "\n",
    "        # Draw the bounding box (red color, thickness=2)\n",
    "        cv2.rectangle(image, (x_min, y_min), (x_max, y_max), (0, 0, 255), 2)\n",
    "\n",
    "        # Prepare label text with class and confidence score\n",
    "        label = f\"{class_label}: {confidence:.2f}\"\n",
    "\n",
    "        # Get text size to create a background rectangle for better readability\n",
    "        (text_width, text_height), baseline = cv2.getTextSize(label, cv2.FONT_HERSHEY_SIMPLEX, 0.5, 1)\n",
    "        cv2.rectangle(image, (x_min, y_min - text_height - baseline), (x_min + text_width, y_min), (0, 0, 255), cv2.FILLED)\n",
    "        cv2.putText(image, label, (x_min, y_min - baseline), cv2.FONT_HERSHEY_SIMPLEX, 0.5, (255, 255, 255), 1)\n",
    "        \n",
    "\n",
    "    output_path = \"annotated_result.jpg\"\n",
    "    cv2.imwrite(output_path, image)\n",
    "    print(f\"Annotated result saved as {output_path}\")\n"
   ]
  },
  {
   "cell_type": "code",
   "execution_count": null,
   "metadata": {},
   "outputs": [],
   "source": [
    "docker pull roboflow/roboflow-inference-server-gpu\n",
    "docker run -it --network=host --gpus=all roboflow/roboflow-inference-server-gpu:latest"
   ]
  },
  {
   "cell_type": "code",
   "execution_count": null,
   "metadata": {},
   "outputs": [
    {
     "ename": "",
     "evalue": "",
     "output_type": "error",
     "traceback": [
      "\u001b[1;31mRunning cells with '.venv (Python 3.8.10)' requires the ipykernel package.\n",
      "\u001b[1;31mRun the following command to install 'ipykernel' into the Python environment. \n",
      "\u001b[1;31mCommand: '/home/aicoe/Desktop/Agentic_RAG/ppe-kit-detection/.venv/bin/python -m pip install ipykernel -U --force-reinstall'"
     ]
    }
   ],
   "source": [
    "What is measure of success - whether it should be quantified \n",
    "i will produce 12 instruments or by 88% accuracy\n",
    "\n",
    "add background image\n",
    "form background L&T or yellow\n",
    "Logo to be added at right corner"
   ]
  },
  {
   "cell_type": "code",
   "execution_count": null,
   "metadata": {},
   "outputs": [],
   "source": []
  }
 ],
 "metadata": {
  "kernelspec": {
   "display_name": ".venv",
   "language": "python",
   "name": "python3"
  },
  "language_info": {
   "codemirror_mode": {
    "name": "ipython",
    "version": 3
   },
   "file_extension": ".py",
   "mimetype": "text/x-python",
   "name": "python",
   "nbconvert_exporter": "python",
   "pygments_lexer": "ipython3",
   "version": "3.8.10"
  }
 },
 "nbformat": 4,
 "nbformat_minor": 2
}
